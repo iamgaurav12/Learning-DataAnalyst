{
 "cells": [
  {
   "cell_type": "markdown",
   "id": "dc7459bf",
   "metadata": {},
   "source": [
    "# Sets in Python\n",
    "\n",
    "## Introduction\n",
    "- A **set** is an unordered collection of unique elements.\n",
    "- Sets are mutable, but the elements inside must be immutable (e.g., numbers, strings, tuples).\n",
    "- Sets are defined using curly braces `{}` or the `set()` constructor.\n",
    "- Useful for membership testing, removing duplicates, and mathematical set operations.\n",
    "\n",
    "## Creating Sets\n",
    "```python\n",
    "# Using curly braces\n",
    "my_set = {1, 2, 3}\n",
    "\n",
    "# Using set() constructor\n",
    "another_set = set([1, 2, 2, 3])\n",
    "# Output: {1, 2, 3}\n",
    "```\n",
    "\n",
    "## Key Properties\n",
    "- **Unordered**: No indexing or slicing.\n",
    "- **Unique elements**: Duplicates are automatically removed.\n",
    "- **Mutable**: Can add or remove elements.\n",
    "\n",
    "## Methods and Operations\n",
    "\n",
    "### Adding Elements\n",
    "- `add(elem)`: Adds a single element.\n",
    "- `update(iterable)`: Adds multiple elements from an iterable.\n",
    "```python\n",
    "my_set.add(4)\n",
    "my_set.update([5, 6])\n",
    "```\n",
    "\n",
    "### Removing Elements\n",
    "- `remove(elem)`: Removes element; raises error if not found.\n",
    "- `discard(elem)`: Removes element; does nothing if not found.\n",
    "- `pop()`: Removes and returns a random element.\n",
    "- `clear()`: Removes all elements.\n",
    "```python\n",
    "my_set.remove(2)\n",
    "my_set.discard(10)\n",
    "my_set.pop()\n",
    "my_set.clear()\n",
    "```\n",
    "\n",
    "### Set Operations\n",
    "- **Union**: `set1 | set2` or `set1.union(set2)`\n",
    "- **Intersection**: `set1 & set2` or `set1.intersection(set2)`\n",
    "- **Difference**: `set1 - set2` or `set1.difference(set2)`\n",
    "- **Symmetric Difference**: `set1 ^ set2` or `set1.symmetric_difference(set2)`\n",
    "```python\n",
    "a = {1, 2, 3}\n",
    "b = {2, 3, 4}\n",
    "a | b  # {1, 2, 3, 4}\n",
    "a & b  # {2, 3}\n",
    "a - b  # {1}\n",
    "a ^ b  # {1, 4}\n",
    "```\n",
    "\n",
    "### Membership Testing\n",
    "```python\n",
    "2 in a      # True\n",
    "5 not in a  # True\n",
    "```\n",
    "\n",
    "## Other Useful Methods\n",
    "- `copy()`: Returns a shallow copy.\n",
    "- `len(set)`: Returns the number of elements.\n",
    "- `isdisjoint(other)`: True if sets have no elements in common.\n",
    "- `issubset(other)`: True if set is subset of other.\n",
    "- `issuperset(other)`: True if set is superset of other.\n",
    "\n",
    "## Applications\n",
    "- Removing duplicates from lists.\n",
    "- Membership testing.\n",
    "- Mathematical set operations (union, intersection, etc.).\n",
    "\n",
    "## Example\n",
    "```python\n",
    "fruits = {'apple', 'banana', 'cherry'}\n",
    "fruits.add('orange')\n",
    "fruits.remove('banana')\n",
    "print(fruits)\n",
    "```\n",
    "\n",
    "## Summary\n",
    "- Sets are powerful for handling unique, unordered data.\n",
    "- Support various operations and methods for efficient data manipulation."
   ]
  },
  {
   "cell_type": "code",
   "execution_count": 2,
   "id": "c49a2ec1",
   "metadata": {},
   "outputs": [
    {
     "name": "stdout",
     "output_type": "stream",
     "text": [
      "{1, 2, 3, 4}\n",
      "<class 'set'>\n"
     ]
    }
   ],
   "source": [
    "## create a set \n",
    "my_set = {1,2,3,4}\n",
    "print(my_set)\n",
    "print(type(my_set))"
   ]
  },
  {
   "cell_type": "code",
   "execution_count": 3,
   "id": "6f15ecf8",
   "metadata": {},
   "outputs": [
    {
     "name": "stdout",
     "output_type": "stream",
     "text": [
      "<class 'set'>\n"
     ]
    }
   ],
   "source": [
    "empty_set=set([1,2,4,5]) # type casting\n",
    "print(type(empty_set))"
   ]
  },
  {
   "cell_type": "code",
   "execution_count": 4,
   "id": "17732825",
   "metadata": {},
   "outputs": [
    {
     "name": "stdout",
     "output_type": "stream",
     "text": [
      "{1, 2, 3, 4, 5}\n"
     ]
    }
   ],
   "source": [
    "empty_set=set([1,2,4,5,1,2,3,5,5,2,4,5]) # type casting\n",
    "print(empty_set)"
   ]
  },
  {
   "cell_type": "code",
   "execution_count": 5,
   "id": "295a062b",
   "metadata": {},
   "outputs": [
    {
     "name": "stdout",
     "output_type": "stream",
     "text": [
      "{1, 2, 3, 4, 7}\n",
      "{1, 2, 3, 4, 7}\n"
     ]
    }
   ],
   "source": [
    "# Basic Sets operation\n",
    "# Adding and removing elements\n",
    "my_set.add(7)\n",
    "print(my_set)\n",
    "my_set.add(7)\n",
    "print(my_set)\n"
   ]
  },
  {
   "cell_type": "code",
   "execution_count": 6,
   "id": "fedc6ed2",
   "metadata": {},
   "outputs": [
    {
     "name": "stdout",
     "output_type": "stream",
     "text": [
      "{1, 2, 4, 7}\n"
     ]
    }
   ],
   "source": [
    "# Remove the elements from a set\n",
    "my_set.remove(3)\n",
    "print(my_set)"
   ]
  },
  {
   "cell_type": "code",
   "execution_count": 7,
   "id": "869a1842",
   "metadata": {},
   "outputs": [
    {
     "name": "stdout",
     "output_type": "stream",
     "text": [
      "{2, 4, 7}\n"
     ]
    }
   ],
   "source": [
    "my_set.remove(1)\n",
    "print(my_set)"
   ]
  },
  {
   "cell_type": "code",
   "execution_count": null,
   "id": "e23f7db8",
   "metadata": {},
   "outputs": [
    {
     "name": "stdout",
     "output_type": "stream",
     "text": [
      "{2, 4, 7}\n"
     ]
    }
   ],
   "source": [
    "my_set.discard(10) \n",
    "\n",
    "# Remove an element from a set if it is a member.\n",
    "\n",
    "# Unlike set.remove(), the discard() method does not raise\n",
    "# an exception when an element is missing from the set.\n",
    "print(my_set)"
   ]
  },
  {
   "cell_type": "code",
   "execution_count": 9,
   "id": "fbd67b90",
   "metadata": {},
   "outputs": [
    {
     "name": "stdout",
     "output_type": "stream",
     "text": [
      "2\n",
      "{4, 7}\n"
     ]
    }
   ],
   "source": [
    "# pop method\n",
    "removed_element=my_set.pop()\n",
    "print(removed_element)\n",
    "print(my_set)"
   ]
  },
  {
   "cell_type": "code",
   "execution_count": 10,
   "id": "54631533",
   "metadata": {},
   "outputs": [
    {
     "data": {
      "text/plain": [
       "set()"
      ]
     },
     "execution_count": 10,
     "metadata": {},
     "output_type": "execute_result"
    }
   ],
   "source": [
    "#  clear all\n",
    "my_set.clear()\n",
    "my_set"
   ]
  },
  {
   "cell_type": "code",
   "execution_count": 12,
   "id": "28f10a73",
   "metadata": {},
   "outputs": [
    {
     "name": "stdout",
     "output_type": "stream",
     "text": [
      "True\n",
      "False\n"
     ]
    }
   ],
   "source": [
    "# Set membership test\n",
    "my_set={1,2,3,4,5}\n",
    "print(3 in my_set)\n",
    "print(10 in my_set)"
   ]
  },
  {
   "cell_type": "code",
   "execution_count": 16,
   "id": "b3aa3747",
   "metadata": {},
   "outputs": [
    {
     "name": "stdout",
     "output_type": "stream",
     "text": [
      "{1, 2, 3, 4, 5, 6, 7, 8, 9}\n",
      "{4, 5, 6}\n",
      "{4, 5, 6}\n"
     ]
    }
   ],
   "source": [
    "# Mathematical Operation\n",
    "set1={1,2,3,4,5,6}\n",
    "set2={4,5,6,7,8,9}\n",
    "\n",
    "# union\n",
    "union_set = set1.union(set2)\n",
    "print(union_set)\n",
    "\n",
    "# intersection\n",
    "intersect_set = set1.intersection(set2)\n",
    "print(intersect_set)\n",
    "\n",
    "set1.intersection_update(set2)\n",
    "print(set1)"
   ]
  },
  {
   "cell_type": "code",
   "execution_count": 18,
   "id": "6b7cdaa3",
   "metadata": {},
   "outputs": [
    {
     "name": "stdout",
     "output_type": "stream",
     "text": [
      "{1, 2, 3}\n"
     ]
    }
   ],
   "source": [
    "set1={1,2,3,4,5,6}\n",
    "set2={4,5,6,7,8,9}\n",
    "\n",
    "## difference\n",
    "print(set1.difference(set2))"
   ]
  },
  {
   "cell_type": "code",
   "execution_count": 19,
   "id": "3d1a32d1",
   "metadata": {},
   "outputs": [
    {
     "data": {
      "text/plain": [
       "{1, 2, 3, 4, 5, 6}"
      ]
     },
     "execution_count": 19,
     "metadata": {},
     "output_type": "execute_result"
    }
   ],
   "source": [
    "set1"
   ]
  },
  {
   "cell_type": "code",
   "execution_count": 20,
   "id": "5bf2097a",
   "metadata": {},
   "outputs": [
    {
     "data": {
      "text/plain": [
       "{7, 8, 9}"
      ]
     },
     "execution_count": 20,
     "metadata": {},
     "output_type": "execute_result"
    }
   ],
   "source": [
    "set2.difference(set1)"
   ]
  },
  {
   "cell_type": "code",
   "execution_count": 22,
   "id": "6a591e22",
   "metadata": {},
   "outputs": [
    {
     "data": {
      "text/plain": [
       "{1, 2, 3, 7, 8, 9}"
      ]
     },
     "execution_count": 22,
     "metadata": {},
     "output_type": "execute_result"
    }
   ],
   "source": [
    "# Symmetric_difference\n",
    "set1.symmetric_difference(set2) #common elements removed"
   ]
  },
  {
   "cell_type": "code",
   "execution_count": null,
   "id": "e9e997fc",
   "metadata": {},
   "outputs": [
    {
     "name": "stdout",
     "output_type": "stream",
     "text": [
      "False\n",
      "True\n"
     ]
    }
   ],
   "source": [
    "# Set methods\n",
    "set1={1,2,3,4,5}\n",
    "set2={3,4,5}\n",
    "\n",
    "# is subset\n",
    "print(set1.issubset(set2))\n",
    "print(set1.issuperset(set2)) "
   ]
  },
  {
   "cell_type": "code",
   "execution_count": 26,
   "id": "26832fb5",
   "metadata": {},
   "outputs": [
    {
     "data": {
      "text/plain": [
       "{1, 2, 3, 4, 5, 6}"
      ]
     },
     "execution_count": 26,
     "metadata": {},
     "output_type": "execute_result"
    }
   ],
   "source": [
    "#removing duplicate elements\n",
    "\n",
    "lst = [1,2,2,3,4,5,5,6,6]\n",
    "set(lst)"
   ]
  },
  {
   "cell_type": "code",
   "execution_count": 30,
   "id": "77aecda6",
   "metadata": {},
   "outputs": [
    {
     "name": "stdout",
     "output_type": "stream",
     "text": [
      "{'we', 'discussing', 'In', 'are', 'about', 'sets', 'tutorial', 'this'}\n",
      "8\n"
     ]
    }
   ],
   "source": [
    "# Counting unique in text\n",
    "text = \"In this tutorial we are are discussing about sets\"\n",
    "words = text.split()\n",
    "\n",
    "# Convert list of words to set to get unique words\n",
    "unique_words = set(words)\n",
    "print(unique_words)\n",
    "print(len(unique_words))"
   ]
  },
  {
   "cell_type": "code",
   "execution_count": null,
   "id": "f0ab1468",
   "metadata": {},
   "outputs": [],
   "source": []
  }
 ],
 "metadata": {
  "kernelspec": {
   "display_name": "Python 3",
   "language": "python",
   "name": "python3"
  },
  "language_info": {
   "codemirror_mode": {
    "name": "ipython",
    "version": 3
   },
   "file_extension": ".py",
   "mimetype": "text/x-python",
   "name": "python",
   "nbconvert_exporter": "python",
   "pygments_lexer": "ipython3",
   "version": "3.13.5"
  }
 },
 "nbformat": 4,
 "nbformat_minor": 5
}
