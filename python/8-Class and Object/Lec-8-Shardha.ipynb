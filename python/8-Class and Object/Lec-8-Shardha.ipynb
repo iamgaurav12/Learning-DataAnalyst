{
 "cells": [
  {
   "cell_type": "code",
   "execution_count": 15,
   "id": "d78dd638",
   "metadata": {},
   "outputs": [
    {
     "name": "stdout",
     "output_type": "stream",
     "text": [
      "Gaurav Prakash\n"
     ]
    }
   ],
   "source": [
    "# object bnaney seh pehley hm class banatey hai\n",
    "# creating class\n",
    "class Student:\n",
    "    name = \"Gaurav Prakash\"\n",
    "\n",
    "# creating object(instance)\n",
    "s1 = Student()\n",
    "print(s1.name)"
   ]
  },
  {
   "cell_type": "code",
   "execution_count": 16,
   "id": "75104bbb",
   "metadata": {},
   "outputs": [
    {
     "name": "stdout",
     "output_type": "stream",
     "text": [
      "blue\n",
      "b&w\n"
     ]
    }
   ],
   "source": [
    "class Car:\n",
    "    color=\"blue\"\n",
    "    brand=\"b&w\"\n",
    "\n",
    "car1 = Car()\n",
    "print(car1.color)\n",
    "print(car1.brand)"
   ]
  },
  {
   "cell_type": "code",
   "execution_count": 17,
   "id": "59d5893c",
   "metadata": {},
   "outputs": [],
   "source": [
    "# __init__ function\n",
    "# The __init__ function is a special method in Python classes, known as a constructor.\n",
    "# It is automatically called when a new object of the class is created.\n",
    "# The __init__ method allows you to initialize the attributes of the class.\n",
    "# Syntax:\n",
    "# class ClassName:\n",
    "#     def __init__(self, param1, param2, ...):\n",
    "#         self.param1 = param1\n",
    "#         self.param2 = param2\n",
    "#\n",
    "# Example:\n",
    "# class Person:\n",
    "#     def __init__(self, name, age):\n",
    "#         self.name = name\n",
    "#         self.age = age\n",
    "#\n",
    "# p1 = Person(\"Alice\", 25)\n",
    "# print(p1.name)  # Output: Alice\n",
    "# print(p1.age)   # Output: 25"
   ]
  },
  {
   "cell_type": "code",
   "execution_count": 27,
   "id": "5c9afa13",
   "metadata": {},
   "outputs": [
    {
     "name": "stdout",
     "output_type": "stream",
     "text": [
      "Adding new student in database\n",
      "<__main__.Student object at 0x000002A8FD8C9550>\n",
      "gaurav\n",
      "Adding new student in database\n",
      "<__main__.Student object at 0x000002A8FDBC5310>\n",
      "prakash\n"
     ]
    }
   ],
   "source": [
    "# creating class\n",
    "class Student:\n",
    "    def __init__(self,name): # name is attributes\n",
    "        print(\"Adding new student in database\")\n",
    "        print(self)\n",
    "        self.name=name\n",
    "    # name = \"Gaurav Prakash\"\n",
    "\n",
    "\n",
    "# creating object(instance)\n",
    "s1 = Student(\"gaurav\")\n",
    "print(s1.name)\n",
    "\n",
    "s2 = Student(\"prakash\")\n",
    "print(s2.name)"
   ]
  },
  {
   "cell_type": "code",
   "execution_count": 33,
   "id": "b619faf4",
   "metadata": {},
   "outputs": [
    {
     "name": "stdout",
     "output_type": "stream",
     "text": [
      "This is a default constructor\n",
      "Name: Gaurav, Age: 23\n",
      "PU\n"
     ]
    }
   ],
   "source": [
    "# Default constructor example\n",
    "class Animal:\n",
    "    def __init__(self):\n",
    "        print(\"This is a default constructor\")\n",
    "\n",
    "a1 = Animal()\n",
    "\n",
    "# Parameterized constructor example\n",
    "class Person:\n",
    "    college_name = \"PU\" # class attribute\n",
    "    def __init__(self, name, age):\n",
    "        self.name = name #object attribute\n",
    "        self.age = age\n",
    "        print(f\"Name: {self.name}, Age: {self.age}\")\n",
    "\n",
    "p1 = Person(\"Gaurav\", 23)\n",
    "print(p1.college_name)"
   ]
  },
  {
   "cell_type": "markdown",
   "id": "f78fee13",
   "metadata": {},
   "source": [
    "### Class and Instance Attributes\n",
    "\n",
    "- **Class Attributes**\n",
    "    - Defined directly inside a class, outside any methods.\n",
    "    - Shared by all instances of the class.\n",
    "    - Changing the value of a class attribute affects all instances (unless overridden in an instance).\n",
    "    - Example:\n",
    "        ```python\n",
    "        class Car:\n",
    "                color = \"blue\"  # class attribute\n",
    "        ```\n",
    "\n",
    "- **Instance Attributes**\n",
    "    - Defined inside methods using `self`, usually in the `__init__` constructor.\n",
    "    - Unique to each instance of the class.\n",
    "    - Changing the value of an instance attribute only affects that specific instance.\n",
    "    - Example:\n",
    "        ```python\n",
    "        class Student:\n",
    "                def __init__(self, name):\n",
    "                        self.name = name  # instance attribute\n",
    "        ```\n",
    "\n",
    "- **Summary Table**\n",
    "\n",
    "    | Attribute Type    | Defined In         | Shared Across Instances | Accessed With      |\n",
    "    |-------------------|--------------------|------------------------|--------------------|\n",
    "    | Class Attribute   | Class body         | Yes                    | Class or instance  |\n",
    "    | Instance Attribute| `__init__`/methods | No                     | Instance only      |"
   ]
  },
  {
   "cell_type": "markdown",
   "id": "bb053f8a",
   "metadata": {},
   "source": [
    "### Methods in Python Classes\n",
    "\n",
    "- **Methods** are functions defined inside a class that describe the behaviors of an object.\n",
    "- The first parameter of a method is always `self`, which refers to the instance calling the method.\n",
    "\n",
    "#### Example\n",
    "\n",
    "```python\n",
    "class Dog:\n",
    "    def __init__(self, name):\n",
    "        self.name = name\n",
    "\n",
    "    def bark(self):\n",
    "        print(f\"{self.name} says woof!\")\n",
    "\n",
    "d = Dog(\"Buddy\")\n",
    "d.bark()  # Output: Buddy says woof!\n",
    "```\n",
    "\n",
    "**Key Points:**\n",
    "- Methods operate on the data (attributes) of the object.\n",
    "- You call a method using the dot (`.`) notation: `object.method()`.\n",
    "- Methods can access and modify instance attributes via `self`."
   ]
  },
  {
   "cell_type": "code",
   "execution_count": 40,
   "id": "7a6ad5ba",
   "metadata": {},
   "outputs": [
    {
     "name": "stdout",
     "output_type": "stream",
     "text": [
      "Hello Gaurav\n",
      "97\n"
     ]
    }
   ],
   "source": [
    "# Creating Class (class ke andar jo function hota hai usko methods boltey hai)\n",
    "class Student:\n",
    "    def __init__(self,fullname,marks):\n",
    "        self.name = fullname\n",
    "        self.marks = marks\n",
    "    def hello(self):  #this is method\n",
    "        print(\"Hello\",self.name)\n",
    "    def get_marks(self):\n",
    "        return self.marks\n",
    "# Creating object\n",
    "s1 = Student(\"Gaurav\",97)\n",
    "s1.hello()\n",
    "print(s1.get_marks())"
   ]
  },
  {
   "cell_type": "code",
   "execution_count": 45,
   "id": "d251303a",
   "metadata": {},
   "outputs": [
    {
     "name": "stdout",
     "output_type": "stream",
     "text": [
      "1.6666666666666667\n"
     ]
    }
   ],
   "source": [
    "# Create student class that takes name and marks of 3 subjects as arguments in construtor.\n",
    "# # Then create a method to print the average\n",
    "\n",
    "class Student:\n",
    "    def __init__(self,sub1,sub2,sub3):\n",
    "        self.sub1 = sub1\n",
    "        self.sub2 = sub2\n",
    "        self.sub3 = sub3\n",
    "    def avg(self):\n",
    "        ans = (self.sub1 + self.sub2 + self.sub3)/3\n",
    "        return ans; \n",
    "s_avg = Student(1,2,2)\n",
    "print(s_avg.avg())"
   ]
  },
  {
   "cell_type": "code",
   "execution_count": 50,
   "id": "ee703f6d",
   "metadata": {},
   "outputs": [
    {
     "name": "stdout",
     "output_type": "stream",
     "text": [
      "Hii Tony Stark Your avg score is: 99.0\n"
     ]
    }
   ],
   "source": [
    "class Student:\n",
    "    def __init__(self,name,marks):\n",
    "        self.name = name\n",
    "        self.marks = marks\n",
    "    def get_avg(self):\n",
    "        sum = 0;\n",
    "        for val in self.marks:\n",
    "            sum+=val\n",
    "        print(\"Hii\",self.name,\"Your avg score is:\",sum/3);\n",
    "\n",
    "s1 = Student(\"Tony Stark\", [98,99,100])\n",
    "s1.get_avg()"
   ]
  },
  {
   "cell_type": "code",
   "execution_count": 53,
   "id": "289e11b3",
   "metadata": {},
   "outputs": [
    {
     "name": "stdout",
     "output_type": "stream",
     "text": [
      "PEC\n"
     ]
    }
   ],
   "source": [
    "# Static Methods\n",
    "# Methods that don't use the self paramenter(works at class level)\n",
    "\n",
    "class Student:\n",
    "    @staticmethod #decorator\n",
    "    def college():\n",
    "        print(\"PEC\")\n",
    "\n",
    "s1 = Student()\n",
    "s1.college()\n",
    "\n",
    "\n",
    "# Decorators allows us to wrap another function in order to extend\n",
    "# the behaviour of the wrapped function, without permanently modifying it"
   ]
  },
  {
   "cell_type": "code",
   "execution_count": 55,
   "id": "de6ca4ad",
   "metadata": {},
   "outputs": [
    {
     "name": "stdout",
     "output_type": "stream",
     "text": [
      "car started\n"
     ]
    }
   ],
   "source": [
    "# Abstraction\n",
    "#? Abstraction --: Hiding the implementation details of a class and only showing the essential features to the user\n",
    "\n",
    "class Car:\n",
    "    def __init__(self):\n",
    "        self.acc = False\n",
    "        self.brk = False\n",
    "        self.clutch = False\n",
    "    \n",
    "    def start(self):\n",
    "        self.clutch = True\n",
    "        self.acc = True\n",
    "        print(\"car started\")\n",
    "\n",
    "car1 = Car()\n",
    "car1.start()\n",
    "\n",
    "# Here only user gets car started not that acc, brk , clutch info"
   ]
  },
  {
   "cell_type": "code",
   "execution_count": 56,
   "id": "057e2f6b",
   "metadata": {},
   "outputs": [
    {
     "name": "stdout",
     "output_type": "stream",
     "text": [
      "Alice\n",
      "30\n",
      "35\n"
     ]
    }
   ],
   "source": [
    "# Encapsulation\n",
    "#? Wrapping data and Functions into a single unit(obejct)\n",
    "\n",
    "class Person:\n",
    "    def __init__(self, name, age):\n",
    "        self.name = name        # public attribute\n",
    "        self.__age = age        # private attribute (encapsulated)\n",
    "\n",
    "    def get_age(self):\n",
    "        return self.__age       # public method to access private attribute\n",
    "\n",
    "    def set_age(self, age):\n",
    "        if age > 0:\n",
    "            self.__age = age\n",
    "\n",
    "p = Person(\"Alice\", 30)\n",
    "print(p.name)           # Access public attribute\n",
    "print(p.get_age())      # Access private attribute via method\n",
    "p.set_age(35)\n",
    "print(p.get_age())"
   ]
  },
  {
   "cell_type": "code",
   "execution_count": 64,
   "id": "e62a3c2b",
   "metadata": {},
   "outputs": [
    {
     "name": "stdout",
     "output_type": "stream",
     "text": [
      "Rs. 10 was debited\n",
      "Total = 9990\n",
      "Rs. 5 was credited\n",
      "Total balance = 9995\n"
     ]
    },
    {
     "data": {
      "text/plain": [
       "9995"
      ]
     },
     "execution_count": 64,
     "metadata": {},
     "output_type": "execute_result"
    }
   ],
   "source": [
    "# Create account class wiht 2 attributes - balance and account no.\n",
    "# Create methods for debit, credit and printing the balance \n",
    "\n",
    "class Account:\n",
    "    def __init__(self,bal,acc):\n",
    "        self.balance = bal\n",
    "        self.account_no = acc\n",
    "\n",
    "    # debit method\n",
    "    def debit(self,amount):\n",
    "        self.balance -= amount\n",
    "        print(\"Rs.\", amount, \"was debited\")\n",
    "        print(\"Total =\", self.get_balance())\n",
    "        \n",
    "    # credit method\n",
    "    def credit(self,amount):\n",
    "        self.balance += amount\n",
    "        print(\"Rs.\", amount, \"was credited\")  \n",
    "        print(\"Total balance =\", self.get_balance())\n",
    "    \n",
    "    def get_balance(self):\n",
    "        return self.balance\n",
    "\n",
    "acc1 = Account(10000, 12345)\n",
    "acc1.debit(10)\n",
    "acc1.credit(5)\n",
    "acc1.get_balance()"
   ]
  },
  {
   "cell_type": "code",
   "execution_count": null,
   "id": "938d3e2e",
   "metadata": {},
   "outputs": [],
   "source": []
  }
 ],
 "metadata": {
  "kernelspec": {
   "display_name": "Python 3",
   "language": "python",
   "name": "python3"
  },
  "language_info": {
   "codemirror_mode": {
    "name": "ipython",
    "version": 3
   },
   "file_extension": ".py",
   "mimetype": "text/x-python",
   "name": "python",
   "nbconvert_exporter": "python",
   "pygments_lexer": "ipython3",
   "version": "3.13.5"
  }
 },
 "nbformat": 4,
 "nbformat_minor": 5
}
