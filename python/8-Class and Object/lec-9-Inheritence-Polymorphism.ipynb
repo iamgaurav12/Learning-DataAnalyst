{
 "cells": [
  {
   "cell_type": "markdown",
   "id": "b700cf9e",
   "metadata": {},
   "source": [
    "## Inheritance in Python\n",
    "\n",
    "- **Inheritance** allows a class (child/derived class) to inherit attributes and methods from another class (parent/base class).\n",
    "- Promotes code reuse and logical hierarchy.\n",
    "- Syntax:\n",
    "    ```python\n",
    "    class Parent:\n",
    "            def method(self):\n",
    "                    print(\"Parent method\")\n",
    "\n",
    "    class Child(Parent):\n",
    "            pass\n",
    "\n",
    "    c = Child()\n",
    "    c.method()  # Output: Parent method\n",
    "    ```\n",
    "- The child class can override or extend the functionality of the parent class.\n",
    "\n",
    "## Polymorphism in Python\n",
    "\n",
    "- **Polymorphism** means \"many forms\". It allows objects of different classes to be treated as objects of a common superclass.\n",
    "- Achieved through method overriding and duck typing.\n",
    "- Example:\n",
    "    ```python\n",
    "    class Dog:\n",
    "            def speak(self):\n",
    "                    return \"Woof!\"\n",
    "\n",
    "    class Cat:\n",
    "            def speak(self):\n",
    "                    return \"Meow!\"\n",
    "\n",
    "    animals = [Dog(), Cat()]\n",
    "    for animal in animals:\n",
    "            print(animal.speak())\n",
    "    # Output:\n",
    "    # Woof!\n",
    "    # Meow!\n",
    "    ```\n",
    "- The same method name (`speak`) behaves differently based on the object.\n",
    "\n",
    "## Key Points\n",
    "\n",
    "- Inheritance enables code reuse and hierarchical relationships.\n",
    "- Polymorphism enables flexibility and interface consistency.\n",
    "- Together, they support powerful object-oriented programming in Python."
   ]
  },
  {
   "cell_type": "code",
   "execution_count": 6,
   "id": "1e38bb83",
   "metadata": {},
   "outputs": [
    {
     "name": "stdout",
     "output_type": "stream",
     "text": [
      "Gaurav\n"
     ]
    },
    {
     "ename": "NameError",
     "evalue": "name 's1' is not defined",
     "output_type": "error",
     "traceback": [
      "\u001b[31m---------------------------------------------------------------------------\u001b[39m",
      "\u001b[31mNameError\u001b[39m                                 Traceback (most recent call last)",
      "\u001b[36mCell\u001b[39m\u001b[36m \u001b[39m\u001b[32mIn[6]\u001b[39m\u001b[32m, line 10\u001b[39m\n\u001b[32m      8\u001b[39m \u001b[38;5;28mprint\u001b[39m(s1.name)\n\u001b[32m      9\u001b[39m \u001b[38;5;28;01mdel\u001b[39;00m s1\n\u001b[32m---> \u001b[39m\u001b[32m10\u001b[39m \u001b[38;5;28mprint\u001b[39m(\u001b[43ms1\u001b[49m.name)\n",
      "\u001b[31mNameError\u001b[39m: name 's1' is not defined"
     ]
    }
   ],
   "source": [
    "# del keyword\n",
    "# Used to delete object properties or object itself\n",
    "class Student:\n",
    "    def __init__(self,name):\n",
    "        self.name = name\n",
    "\n",
    "s1 = Student(\"Gaurav\")\n",
    "print(s1.name)\n",
    "del s1\n",
    "print(s1.name)"
   ]
  },
  {
   "cell_type": "code",
   "execution_count": 13,
   "id": "c890085c",
   "metadata": {},
   "outputs": [
    {
     "name": "stdout",
     "output_type": "stream",
     "text": [
      "12345\n",
      "abcde\n",
      "None\n"
     ]
    },
    {
     "ename": "AttributeError",
     "evalue": "'Account' object has no attribute '__see_pass'",
     "output_type": "error",
     "traceback": [
      "\u001b[31m---------------------------------------------------------------------------\u001b[39m",
      "\u001b[31mAttributeError\u001b[39m                            Traceback (most recent call last)",
      "\u001b[36mCell\u001b[39m\u001b[36m \u001b[39m\u001b[32mIn[13]\u001b[39m\u001b[32m, line 19\u001b[39m\n\u001b[32m     17\u001b[39m \u001b[38;5;28mprint\u001b[39m(acc1.acc_no)\n\u001b[32m     18\u001b[39m \u001b[38;5;28mprint\u001b[39m(acc1.reset_password())\n\u001b[32m---> \u001b[39m\u001b[32m19\u001b[39m \u001b[38;5;28mprint\u001b[39m(\u001b[43macc1\u001b[49m\u001b[43m.\u001b[49m\u001b[43m__see_pass\u001b[49m())\n\u001b[32m     21\u001b[39m \u001b[38;5;66;03m# print(acc1.__acc_pass) #not accessed directly\u001b[39;00m\n",
      "\u001b[31mAttributeError\u001b[39m: 'Account' object has no attribute '__see_pass'"
     ]
    }
   ],
   "source": [
    "# Private(like) attributes and methods\n",
    "# Conceptual implementations in Python\n",
    "# Private attributes and methods are meant to be used only within the class and are not accessible from outside the class.\n",
    "\n",
    "class Account:\n",
    "    def __init__(self,acc_no,acc_pass):\n",
    "        self.acc_no = acc_no\n",
    "        self.__acc_pass = acc_pass\n",
    "\n",
    "    def reset_password(self):\n",
    "        print(self.__acc_pass)\n",
    "\n",
    "    def __see_pass(self):\n",
    "        print(self.__acc_pass)\n",
    "\n",
    "acc1 = Account(\"12345\", \"abcde\")\n",
    "print(acc1.acc_no)\n",
    "print(acc1.reset_password())\n",
    "print(acc1.__see_pass())\n",
    "\n",
    "# print(acc1.__acc_pass) #not accessed directly"
   ]
  },
  {
   "cell_type": "code",
   "execution_count": 14,
   "id": "678304c4",
   "metadata": {},
   "outputs": [
    {
     "name": "stdout",
     "output_type": "stream",
     "text": [
      "Hello person!\n",
      "None\n"
     ]
    }
   ],
   "source": [
    "class Person:\n",
    "    __name = \"Anonymous\"\n",
    "\n",
    "    def __hello(self):\n",
    "        print(\"Hello person!\")\n",
    "    \n",
    "    def welcome(self):\n",
    "        self.__hello()\n",
    "\n",
    "p1 = Person()\n",
    "print(p1.welcome())"
   ]
  },
  {
   "cell_type": "markdown",
   "id": "c34fe495",
   "metadata": {},
   "source": [
    "## Inheritance\n",
    "\n",
    "- **Inheritance** is a fundamental concept in object-oriented programming that allows a class (child/derived class) to inherit attributes and methods from another class (parent/base class).\n",
    "- Promotes code reuse and establishes a logical hierarchy between classes.\n",
    "- The child class can override or extend the functionality of the parent class.\n",
    "- **Syntax Example:**\n",
    "    ```python\n",
    "    class Parent:\n",
    "        def method(self):\n",
    "            print(\"Parent method\")\n",
    "\n",
    "    class Child(Parent):\n",
    "        pass\n",
    "\n",
    "    c = Child()\n",
    "    c.method()  # Output: Parent method\n",
    "    ```\n",
    "\n",
    "**Key Points:**\n",
    "- Inheritance enables code reuse and hierarchical relationships."
   ]
  },
  {
   "cell_type": "code",
   "execution_count": null,
   "id": "fd5121a2",
   "metadata": {},
   "outputs": [
    {
     "name": "stdout",
     "output_type": "stream",
     "text": [
      "fortuner\n",
      "car started\n",
      "None\n",
      "car stopped\n",
      "None\n"
     ]
    }
   ],
   "source": [
    "# Inheritence\n",
    "class Car:\n",
    "    @staticmethod\n",
    "    def start():\n",
    "        print(\"car started\")\n",
    "    \n",
    "    @staticmethod\n",
    "    def stop():\n",
    "        print(\"car stopped\")\n",
    "\n",
    "\n",
    "class ToyotaCar(Car):\n",
    "    def __init__(self,name):\n",
    "        self.name = name\n",
    "\n",
    "car1 = ToyotaCar(\"fortuner\")\n",
    "car2 = ToyotaCar(\"hilux\")\n",
    "\n",
    "print(car1.name)\n",
    "print(car1.start())\n",
    "print(car1.stop())\n",
    "\n",
    "\n",
    "# This is example of single-level inheritence"
   ]
  },
  {
   "cell_type": "code",
   "execution_count": 21,
   "id": "b96c0aa9",
   "metadata": {},
   "outputs": [
    {
     "name": "stdout",
     "output_type": "stream",
     "text": [
      "car started\n",
      "None\n",
      "car stopped\n",
      "None\n"
     ]
    }
   ],
   "source": [
    "# Inheritence\n",
    "class Car:\n",
    "    @staticmethod\n",
    "    def start():\n",
    "        print(\"car started\")\n",
    "    \n",
    "    @staticmethod\n",
    "    def stop():\n",
    "        print(\"car stopped\")\n",
    "\n",
    "\n",
    "class ToyotaCar(Car):\n",
    "    def __init__(self,brand):\n",
    "        self.brand = brand\n",
    "\n",
    "class Fortuner(ToyotaCar):\n",
    "    def __init__(self, type):\n",
    "        self.type = type\n",
    "\n",
    "\n",
    "car1 = Fortuner(\"electric\")\n",
    "\n",
    "print(car1.start())\n",
    "print(car1.stop())\n",
    "\n",
    "\n",
    "# This is example of single-level inheritence"
   ]
  },
  {
   "cell_type": "code",
   "execution_count": null,
   "id": "12238923",
   "metadata": {},
   "outputs": [
    {
     "name": "stdout",
     "output_type": "stream",
     "text": [
      "Gardening, Programming\n",
      "Cooking, Art\n",
      "Sports\n"
     ]
    }
   ],
   "source": [
    "# Notes for Multiple Inheritance\n",
    "\n",
    "# Multiple inheritance allows a class to inherit from more than one parent class.\n",
    "# This enables a derived class to inherit attributes and methods from multiple base classes.\n",
    "\n",
    "# Syntax Example:\n",
    "class Father:\n",
    "    def skills(self):\n",
    "        print(\"Gardening, Programming\")\n",
    "\n",
    "class Mother:\n",
    "    def skills(self):\n",
    "        print(\"Cooking, Art\")\n",
    "\n",
    "class Child(Father, Mother):\n",
    "    def skills(self):\n",
    "        Father.skills(self)\n",
    "        Mother.skills(self)\n",
    "        print(\"Sports\")\n",
    "\n",
    "c = Child()\n",
    "c.skills()\n",
    "\n",
    "# Key Points:\n",
    "# - Python supports multiple inheritance.\n",
    "# - Method Resolution Order (MRO) determines the order in which base classes are searched."
   ]
  },
  {
   "cell_type": "code",
   "execution_count": 6,
   "id": "8bfa865b",
   "metadata": {},
   "outputs": [
    {
     "name": "stdout",
     "output_type": "stream",
     "text": [
      "car started\n",
      "electric\n"
     ]
    }
   ],
   "source": [
    "# Super Method --: Mtlb parents\n",
    "# super() method is the method which is used to access method of the parent class\n",
    "# Inheritence\n",
    "class Car:\n",
    "    def __init__(self,type):\n",
    "        self.type = type\n",
    "        \n",
    "    @staticmethod\n",
    "    def start():\n",
    "        print(\"car started\")\n",
    "    \n",
    "    @staticmethod\n",
    "    def stop():\n",
    "        print(\"car stopped\")\n",
    "\n",
    "\n",
    "class ToyotaCar(Car):\n",
    "    def __init__(self,name,type):\n",
    "        super().__init__(type)\n",
    "        self.name = name\n",
    "        super().start()\n",
    "        \n",
    "car1 = ToyotaCar(\"prius\",\"electric\")\n",
    "print(car1.type)\n"
   ]
  },
  {
   "cell_type": "code",
   "execution_count": null,
   "id": "faaef768",
   "metadata": {},
   "outputs": [
    {
     "name": "stdout",
     "output_type": "stream",
     "text": [
      "Gaurav\n",
      "Gaurav\n"
     ]
    }
   ],
   "source": [
    "# Class method\n",
    "'''\n",
    "A class method is bound to the class and receives the class as an implicit first argument.\n",
    "\n",
    "Note- Static method can't access or modify class state and generally for utility\n",
    "'''\n",
    "\n",
    "# Hm object ke method seh class ke name ko change krna chahtey hai lekin yeh ho nhi pta hai khud ka alg create kr detey to tackle this we use classMethod decorator\n",
    "\n",
    "class Person: \n",
    "    name = \"kuch vi\"\n",
    "    \n",
    "    # def changeName(self, name):\n",
    "    #     self.__class__.name = \"Gaurav\" #m-1\n",
    "    #     # Person.name = name #m-2\n",
    "    \n",
    "    @classmethod #m-3\n",
    "    def changeName(cls,name):\n",
    "        cls.name = cls\n",
    "    \n",
    "    \n",
    "p1 = Person() #m-1\n",
    "p1.changeName(\"Gaurav\") #m-2,3\n",
    "print(p1.name)\n",
    "print(Person.name)"
   ]
  },
  {
   "cell_type": "code",
   "execution_count": null,
   "id": "b502dfd5",
   "metadata": {},
   "outputs": [],
   "source": [
    "# Property decorator\n",
    "# The @property decorator in Python is used to define getter, setter, and deleter methods for class attributes.\n",
    "# It allows you to access methods like attributes, providing encapsulation and control over attribute access.\n",
    "\n"
   ]
  },
  {
   "cell_type": "code",
   "execution_count": null,
   "id": "c4b7bed9",
   "metadata": {},
   "outputs": [
    {
     "name": "stdout",
     "output_type": "stream",
     "text": [
      "98.0%\n",
      "94.0%\n"
     ]
    }
   ],
   "source": [
    "class Student:\n",
    "    def __init__(self,phy,chem,math):\n",
    "        self.phy = phy\n",
    "        self.chem = chem\n",
    "        self.math = math\n",
    "        \n",
    "    @property\n",
    "    def percentage(self):\n",
    "        return str((self.phy + self.chem + self.math)/3) + \"%\"\n",
    "    \n",
    "\n",
    "stu1 = Student(98,97,99)\n",
    "print(stu1.percentage)\n",
    "\n",
    "stu1.phy = 86\n",
    "print(stu1.percentage)  "
   ]
  },
  {
   "cell_type": "markdown",
   "id": "8c54ea90",
   "metadata": {},
   "source": [
    "## Polymorphism: Operator Overloading in Python\n",
    "\n",
    "- **Polymorphism** allows the same operator to have different meanings based on the context (object types).\n",
    "- **Operator Overloading** enables user-defined classes to define their own behavior for standard operators (like `+`, `-`, `*`, etc.).\n",
    "\n",
    "### How Operator Overloading Works\n",
    "\n",
    "- Special methods (also called \"magic methods\" or \"dunder methods\") are used to define operator behavior.\n",
    "- Example: `__add__` for `+`, `__sub__` for `-`, `__mul__` for `*`, etc.\n",
    "\n",
    "### Example\n",
    "\n",
    "```python\n",
    "class Point:\n",
    "    def __init__(self, x, y):\n",
    "        self.x = x\n",
    "        self.y = y\n",
    "\n",
    "    def __add__(self, other):\n",
    "        return Point(self.x + other.x, self.y + other.y)\n",
    "\n",
    "p1 = Point(1, 2)\n",
    "p2 = Point(3, 4)\n",
    "result = p1 + p2  # Calls p1.__add__(p2)\n",
    "print(result.x, result.y)  # Output: 4 6\n",
    "```\n",
    "\n",
    "### Key Points\n",
    "\n",
    "- Operator overloading increases code readability and flexibility.\n",
    "- Only the operators you explicitly overload will have custom behavior; others use default implementation.\n",
    "- Commonly overloaded operators: `+` (`__add__`), `-` (`__sub__`), `*` (`__mul__`), `==` (`__eq__`), etc.\n",
    "\n",
    "**Summary:**  \n",
    "Operator overloading is a form of polymorphism that lets you define how operators behave for your custom classes, making your objects interact more intuitively."
   ]
  },
  {
   "cell_type": "code",
   "execution_count": null,
   "id": "9d761675",
   "metadata": {},
   "outputs": [
    {
     "name": "stdout",
     "output_type": "stream",
     "text": [
      "3\n",
      "apna college\n",
      "[1, 2, 3, 4, 5, 6]\n"
     ]
    }
   ],
   "source": [
    "# Polymorphism --: When the same operator is allowed to have different meaning according to the context\n",
    "print(1+2) #3\n",
    "print(\"apna \"+\"college\") #concatenate\n",
    "print([1,2,3]+[4,5,6]) #merge\n",
    "\n",
    "#? Here '+' is overloading (This is polymorphism) and this is implicit overloading jo defined hai"
   ]
  },
  {
   "cell_type": "code",
   "execution_count": 21,
   "id": "470a87df",
   "metadata": {},
   "outputs": [
    {
     "name": "stdout",
     "output_type": "stream",
     "text": [
      "1 i + 3 j\n",
      "4 i + 6 j\n",
      "5 i + 9 j\n"
     ]
    }
   ],
   "source": [
    "# Example\n",
    "class Complex:\n",
    "    def __init__(self,real,img):\n",
    "        self.real = real\n",
    "        self.img = img\n",
    "        \n",
    "    def showNumber(self):\n",
    "        print(self.real,\"i +\",self.img,\"j\")\n",
    "\n",
    "    # writing normal add function\n",
    "    def add(self,num2):\n",
    "        newReal = self.real + num2.real\n",
    "        newImg = self.img + num2.img\n",
    "        return Complex(newReal, newImg)\n",
    "    \n",
    "    #! dunder function\n",
    "    def __add__(self,num2):\n",
    "        newReal = self.real + num2.real\n",
    "        newImg = self.img + num2.img\n",
    "        return Complex(newReal, newImg)\n",
    "    \n",
    "# Common dunder (magic) functions in Python:\n",
    "# __init__      : Object initializer (constructor)\n",
    "# __del__       : Destructor\n",
    "# __str__       : String representation (str())\n",
    "# __repr__      : Official string representation (repr())\n",
    "# __add__       : Addition (+)\n",
    "# __sub__       : Subtraction (-)\n",
    "# __mul__       : Multiplication (*)\n",
    "# __truediv__   : Division (/)\n",
    "# __floordiv__  : Floor division (//)\n",
    "# __mod__       : Modulo (%)\n",
    "# __pow__       : Power (**)\n",
    "# __eq__        : Equality (==)\n",
    "# __ne__        : Not equal (!=)\n",
    "# __lt__        : Less than (<)\n",
    "# __le__        : Less than or equal (<=)\n",
    "# __gt__        : Greater than (>)\n",
    "# __ge__        : Greater than or equal (>=)\n",
    "# __len__       : Length (len())\n",
    "# __getitem__   : Get item (obj[key])\n",
    "# __setitem__   : Set item (obj[key] = value)\n",
    "# __delitem__   : Delete item (del obj[key])\n",
    "# __iter__      : Iterator (iter())\n",
    "# __next__      : Next item (next())\n",
    "# __call__      : Callable objects (obj())\n",
    "# __contains__  : Membership test (in)\n",
    "# __enter__     : Context manager entry (with)\n",
    "# __exit__      : Context manager exit (with)\n",
    "# __copy__      : Copy support\n",
    "# __deepcopy__  : Deep copy support\n",
    "        \n",
    "num1 = Complex(1,3)\n",
    "num1.showNumber()\n",
    "\n",
    "num2 = Complex(4,6)\n",
    "num2.showNumber()\n",
    "\n",
    "# Normal\n",
    "# num3 = num1.add(num2)\n",
    "# num3.showNumber()\n",
    "\n",
    "#! Dunder function\n",
    "num3 = num1 + num2\n",
    "num3.showNumber()\n",
    "\n",
    "# We can use dunder function\n",
    "# This is defined using '__' example --: __add__\n"
   ]
  }
 ],
 "metadata": {
  "kernelspec": {
   "display_name": "Python 3",
   "language": "python",
   "name": "python3"
  },
  "language_info": {
   "codemirror_mode": {
    "name": "ipython",
    "version": 3
   },
   "file_extension": ".py",
   "mimetype": "text/x-python",
   "name": "python",
   "nbconvert_exporter": "python",
   "pygments_lexer": "ipython3",
   "version": "3.13.5"
  }
 },
 "nbformat": 4,
 "nbformat_minor": 5
}
