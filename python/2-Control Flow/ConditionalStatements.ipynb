{
 "cells": [
  {
   "cell_type": "markdown",
   "id": "012574f9",
   "metadata": {},
   "source": [
    "### Conditional Statements in Python\n",
    "\n",
    "Conditional statements allow you to execute certain blocks of code based on specific conditions. The main conditional statements in Python are:\n",
    "\n",
    "#### 1. `if` Statement\n",
    "Executes a block of code if the condition is `True`.\n",
    "```python\n",
    "if condition:\n",
    "    # code to execute if condition is True\n",
    "```\n",
    "\n",
    "#### 2. `if-else` Statement\n",
    "Provides an alternative block if the condition is `False`.\n",
    "```python\n",
    "if condition:\n",
    "    # code if condition is True\n",
    "else:\n",
    "    # code if condition is False\n",
    "```\n",
    "\n",
    "#### 3. `if-elif-else` Statement\n",
    "Checks multiple conditions in sequence.\n",
    "```python\n",
    "if condition1:\n",
    "    # code if condition1 is True\n",
    "elif condition2:\n",
    "    # code if condition2 is True\n",
    "else:\n",
    "    # code if none of the above conditions are True\n",
    "```\n",
    "\n",
    "#### 4. Nested `if` Statements\n",
    "You can place an `if` statement inside another `if` statement.\n",
    "```python\n",
    "if condition1:\n",
    "    if condition2:\n",
    "        # code if both condition1 and condition2 are True\n",
    "```\n",
    "\n",
    "#### 5. Short-hand `if` (Ternary Operator)\n",
    "A compact way to write simple `if-else` statements.\n",
    "```python\n",
    "x = value_if_true if condition else value_if_false\n",
    "```\n",
    "\n",
    "#### 6. Logical Operators in Conditions\n",
    "- `and`: True if both conditions are True\n",
    "- `or`: True if at least one condition is True\n",
    "- `not`: Inverts the condition\n",
    "\n",
    "```python\n",
    "if age > 18 and has_license:\n",
    "    print(\"You can drive.\")\n",
    "```\n",
    "\n",
    "#### 7. Comparison Operators\n",
    "- `==` : Equal to\n",
    "- `!=` : Not equal to\n",
    "- `>`  : Greater than\n",
    "- `<`  : Less than\n",
    "- `>=` : Greater than or equal to\n",
    "- `<=` : Less than or equal to\n",
    "\n",
    "#### Example\n",
    "```python\n",
    "num = 10\n",
    "if num > 0:\n",
    "    print(\"Positive number\")\n",
    "elif num == 0:\n",
    "    print(\"Zero\")\n",
    "else:\n",
    "    print(\"Negative number\")\n",
    "```\n",
    "\n",
    "**Summary:**  \n",
    "Conditional statements are essential for decision-making in Python programs, allowing your code to react differently based on varying inputs and conditions."
   ]
  },
  {
   "cell_type": "code",
   "execution_count": 4,
   "id": "2bae04ab",
   "metadata": {},
   "outputs": [
    {
     "name": "stdout",
     "output_type": "stream",
     "text": [
      "Election meh aaja\n"
     ]
    }
   ],
   "source": [
    "## if statement\n",
    "age = 18\n",
    "if age>=18:\n",
    "    print(\"Election meh aaja\")"
   ]
  },
  {
   "cell_type": "code",
   "execution_count": 5,
   "id": "2a2b3aee",
   "metadata": {},
   "outputs": [
    {
     "name": "stdout",
     "output_type": "stream",
     "text": [
      "Nhii bhag\n"
     ]
    }
   ],
   "source": [
    "# else\n",
    "age = 17\n",
    "if age>=18:\n",
    "    print(\"Election meh aaja\")\n",
    "else: \n",
    "    print(\"Nhii bhag\")"
   ]
  },
  {
   "cell_type": "code",
   "execution_count": 7,
   "id": "4a0e41e3",
   "metadata": {},
   "outputs": [
    {
     "name": "stdout",
     "output_type": "stream",
     "text": [
      "Just became adult\n"
     ]
    }
   ],
   "source": [
    "#  elif\n",
    "## The elif statement allows you to check multiple conditions. It stands for \"else if\"\n",
    "\n",
    "age = 18\n",
    "if age > 18:\n",
    "    print(\"Adult\")\n",
    "elif age == 18:\n",
    "    print(\"Just became adult\")\n",
    "else:\n",
    "    print(\"Not an adult\")\n"
   ]
  },
  {
   "cell_type": "code",
   "execution_count": 13,
   "id": "306271e2",
   "metadata": {},
   "outputs": [
    {
     "name": "stdout",
     "output_type": "stream",
     "text": [
      "You are an adult.\n"
     ]
    }
   ],
   "source": [
    "# Nested if statement example\n",
    "age = int(input(\"Enter your age : \"))\n",
    "if age >= 18:\n",
    "    if age == 18:\n",
    "        print(\"You just became an adult!\")\n",
    "    else:\n",
    "        print(\"You are an adult.\")\n",
    "else:\n",
    "    print(\"You are not an adult.\")"
   ]
  },
  {
   "cell_type": "code",
   "execution_count": 18,
   "id": "99824bf3",
   "metadata": {},
   "outputs": [
    {
     "name": "stdout",
     "output_type": "stream",
     "text": [
      "2024 is a leap year.\n"
     ]
    }
   ],
   "source": [
    "# Check if the year in variable 'age' is a leap year using nested if statements\n",
    "year = int(input(\"Enter year\"))\n",
    "if year % 4 == 0:\n",
    "    if year % 100 == 0:\n",
    "        if year % 400 == 0:\n",
    "            print(year, \"is a leap year.\")\n",
    "        else:\n",
    "            print(f\"{year} is not a leap year.\")\n",
    "    else:\n",
    "        print(f\"{year} is a leap year.\")\n",
    "else:\n",
    "    print(f\"{year} is not a leap year.\")"
   ]
  },
  {
   "cell_type": "code",
   "execution_count": 19,
   "id": "d8a59a9a",
   "metadata": {},
   "outputs": [
    {
     "name": "stdout",
     "output_type": "stream",
     "text": [
      "Result: 9.0\n"
     ]
    }
   ],
   "source": [
    "# Simple calculator using nested if-else\n",
    "\n",
    "num1 = float(input(\"Enter first number: \"))\n",
    "operator = input(\"Enter operator (+, -, *, /): \")\n",
    "num2 = float(input(\"Enter second number: \"))\n",
    "\n",
    "if operator == '+':\n",
    "    print(\"Result:\", num1 + num2)\n",
    "elif operator == '-':\n",
    "    print(\"Result:\", num1 - num2)\n",
    "elif operator == '*':\n",
    "    print(\"Result:\", num1 * num2)\n",
    "elif operator == '/':\n",
    "    if num2 != 0:\n",
    "        print(\"Result:\", num1 / num2)\n",
    "    else:\n",
    "        print(\"Error: Division by zero\")\n",
    "else:\n",
    "    print(\"Invalid operator\")"
   ]
  }
 ],
 "metadata": {
  "kernelspec": {
   "display_name": "Python 3",
   "language": "python",
   "name": "python3"
  },
  "language_info": {
   "codemirror_mode": {
    "name": "ipython",
    "version": 3
   },
   "file_extension": ".py",
   "mimetype": "text/x-python",
   "name": "python",
   "nbconvert_exporter": "python",
   "pygments_lexer": "ipython3",
   "version": "3.13.5"
  }
 },
 "nbformat": 4,
 "nbformat_minor": 5
}
