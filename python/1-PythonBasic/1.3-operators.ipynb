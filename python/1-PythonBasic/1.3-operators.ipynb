{
 "cells": [
  {
   "cell_type": "markdown",
   "id": "7f721e9c",
   "metadata": {},
   "source": [
    "### Operators"
   ]
  },
  {
   "cell_type": "markdown",
   "id": "369148b5",
   "metadata": {},
   "source": [
    "#### Data Types and Their Operators\n",
    "\n",
    "There are four main types of data types in Python:\n",
    "\n",
    "1. **Integer (`int`)**: Whole numbers, e.g., `5`, `-3`, `42`\n",
    "    - **Arithmetic Operators**: `+`, `-`, `*`, `/`, `//`, `%`, `**`\n",
    "    - **Comparison Operators**: `==`, `!=`, `>`, `<`, `>=`, `<=`\n",
    "\n",
    "2. **Float (`float`)**: Decimal numbers, e.g., `3.14`, `-0.001`, `2.0`\n",
    "    - **Arithmetic Operators**: `+`, `-`, `*`, `/`, `//`, `%`, `**`\n",
    "    - **Comparison Operators**: `==`, `!=`, `>`, `<`, `>=`, `<=`\n",
    "\n",
    "3. **String (`str`)**: Sequence of characters, e.g., `\"hello\"`, `'Python'`\n",
    "    - **Concatenation**: `+`\n",
    "    - **Repetition**: `*`\n",
    "    - **Membership**: `in`, `not in`\n",
    "    - **Comparison Operators**: `==`, `!=`, `>`, `<`, `>=`, `<=`\n",
    "\n",
    "4. **Boolean (`bool`)**: Logical values, either `True` or `False`\n",
    "    - **Logical Operators**: `and`, `or`, `not`\n",
    "    - **Comparison Operators**: `==`, `!=`"
   ]
  },
  {
   "cell_type": "code",
   "execution_count": 4,
   "id": "7caa711a",
   "metadata": {},
   "outputs": [
    {
     "name": "stdout",
     "output_type": "stream",
     "text": [
      "15\n",
      "5\n",
      "floor 2\n",
      "0\n",
      "100000\n"
     ]
    }
   ],
   "source": [
    "## Arithemetic Operation\n",
    "a=10\n",
    "b=5\n",
    "\n",
    "add_result = a+b\n",
    "sub_result = a-b\n",
    "# all with multiplication and division\n",
    "floor_div_result = a//b\n",
    "modulus_result = a % b\n",
    "exponent_result = a**b\n",
    "\n",
    "print(add_result)\n",
    "print(sub_result)\n",
    "print(\"floor\",floor_div_result)\n",
    "print(modulus_result)\n",
    "print(exponent_result)"
   ]
  },
  {
   "cell_type": "code",
   "execution_count": 5,
   "id": "7033e920",
   "metadata": {},
   "outputs": [
    {
     "data": {
      "text/plain": [
       "4.2"
      ]
     },
     "execution_count": 5,
     "metadata": {},
     "output_type": "execute_result"
    }
   ],
   "source": [
    "21/5"
   ]
  },
  {
   "cell_type": "code",
   "execution_count": 7,
   "id": "3302cd41",
   "metadata": {},
   "outputs": [
    {
     "data": {
      "text/plain": [
       "4"
      ]
     },
     "execution_count": 7,
     "metadata": {},
     "output_type": "execute_result"
    }
   ],
   "source": [
    "21//5 #nearest integer"
   ]
  },
  {
   "cell_type": "code",
   "execution_count": 11,
   "id": "706a8c31",
   "metadata": {},
   "outputs": [
    {
     "data": {
      "text/plain": [
       "True"
      ]
     },
     "execution_count": 11,
     "metadata": {},
     "output_type": "execute_result"
    }
   ],
   "source": [
    "# Comparison Operator\n",
    "a=10\n",
    "b=10\n",
    "\n",
    "a==b #equal to"
   ]
  },
  {
   "cell_type": "code",
   "execution_count": 12,
   "id": "f4571323",
   "metadata": {},
   "outputs": [
    {
     "data": {
      "text/plain": [
       "False"
      ]
     },
     "execution_count": 12,
     "metadata": {},
     "output_type": "execute_result"
    }
   ],
   "source": [
    "a!=b"
   ]
  },
  {
   "cell_type": "code",
   "execution_count": 13,
   "id": "4aee2570",
   "metadata": {},
   "outputs": [
    {
     "data": {
      "text/plain": [
       "False"
      ]
     },
     "execution_count": 13,
     "metadata": {},
     "output_type": "execute_result"
    }
   ],
   "source": [
    "# greater than\n",
    "a>b"
   ]
  },
  {
   "cell_type": "code",
   "execution_count": 14,
   "id": "c45717ba",
   "metadata": {},
   "outputs": [
    {
     "data": {
      "text/plain": [
       "False"
      ]
     },
     "execution_count": 14,
     "metadata": {},
     "output_type": "execute_result"
    }
   ],
   "source": [
    "# less than\n",
    "a<b"
   ]
  },
  {
   "cell_type": "code",
   "execution_count": 15,
   "id": "05cae87f",
   "metadata": {},
   "outputs": [
    {
     "data": {
      "text/plain": [
       "True"
      ]
     },
     "execution_count": 15,
     "metadata": {},
     "output_type": "execute_result"
    }
   ],
   "source": [
    "# greater than or equal to\n",
    "a>=b"
   ]
  },
  {
   "cell_type": "code",
   "execution_count": 16,
   "id": "40895b2a",
   "metadata": {},
   "outputs": [
    {
     "data": {
      "text/plain": [
       "True"
      ]
     },
     "execution_count": 16,
     "metadata": {},
     "output_type": "execute_result"
    }
   ],
   "source": [
    "# less than or equal to\n",
    "a<=b"
   ]
  },
  {
   "cell_type": "markdown",
   "id": "1a03a440",
   "metadata": {},
   "source": [
    "#### Logical Operators"
   ]
  },
  {
   "cell_type": "code",
   "execution_count": null,
   "id": "a02406d9",
   "metadata": {},
   "outputs": [
    {
     "name": "stdout",
     "output_type": "stream",
     "text": [
      "False\n"
     ]
    }
   ],
   "source": [
    "# And , Not , OR\n",
    "X = True\n",
    "Y = False\n",
    "\n",
    "result = X and Y\n",
    "# result = not Y\n",
    "# result = X or Y\n",
    "\n",
    "print(result)"
   ]
  },
  {
   "cell_type": "code",
   "execution_count": null,
   "id": "a03315ca",
   "metadata": {},
   "outputs": [],
   "source": []
  }
 ],
 "metadata": {
  "kernelspec": {
   "display_name": "Python 3",
   "language": "python",
   "name": "python3"
  },
  "language_info": {
   "codemirror_mode": {
    "name": "ipython",
    "version": 3
   },
   "file_extension": ".py",
   "mimetype": "text/x-python",
   "name": "python",
   "nbconvert_exporter": "python",
   "pygments_lexer": "ipython3",
   "version": "3.13.5"
  }
 },
 "nbformat": 4,
 "nbformat_minor": 5
}
