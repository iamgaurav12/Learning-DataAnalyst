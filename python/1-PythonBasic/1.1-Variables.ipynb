{
 "cells": [
  {
   "cell_type": "markdown",
   "id": "faa555ea",
   "metadata": {},
   "source": [
    "### Variables"
   ]
  },
  {
   "cell_type": "code",
   "execution_count": 1,
   "id": "0928173a",
   "metadata": {},
   "outputs": [
    {
     "name": "stdout",
     "output_type": "stream",
     "text": [
      "age 32\n",
      "height 5.9\n",
      "name gaurav\n"
     ]
    }
   ],
   "source": [
    "# Declaring and Assigning Variables\n",
    "age=32\n",
    "height=5.9\n",
    "name=\"gaurav\"\n",
    "is_student = True\n",
    "\n",
    "# printing the variables\n",
    "print(\"age\",age)\n",
    "print(\"height\",height)\n",
    "print(\"name\",name)"
   ]
  },
  {
   "cell_type": "code",
   "execution_count": 2,
   "id": "a5759373",
   "metadata": {},
   "outputs": [],
   "source": [
    "# Naming Conventions\n",
    "# Variables names should be descriptive\n",
    "# This must start with a letter or an \"_\" and contains letters,numbers and underscores\n",
    "# Case sensitive\n",
    "\n",
    "first_name = \"gaurav\"\n",
    "last_name = \"prakash\""
   ]
  },
  {
   "cell_type": "code",
   "execution_count": null,
   "id": "dff03687",
   "metadata": {},
   "outputs": [
    {
     "ename": "SyntaxError",
     "evalue": "cannot assign to expression here. Maybe you meant '==' instead of '='? (1614346159.py, line 3)",
     "output_type": "error",
     "traceback": [
      "  \u001b[36mCell\u001b[39m\u001b[36m \u001b[39m\u001b[32mIn[5]\u001b[39m\u001b[32m, line 3\u001b[39m\n\u001b[31m    \u001b[39m\u001b[31mfirst-name =\"hii\"\u001b[39m\n    ^\n\u001b[31mSyntaxError\u001b[39m\u001b[31m:\u001b[39m cannot assign to expression here. Maybe you meant '==' instead of '='?\n"
     ]
    }
   ],
   "source": [
    "# Invalid varibles name\n",
    "# 2age=30;\n",
    "# first-name =\"hii\"\n"
   ]
  },
  {
   "cell_type": "code",
   "execution_count": 6,
   "id": "062f796a",
   "metadata": {},
   "outputs": [
    {
     "name": "stdout",
     "output_type": "stream",
     "text": [
      "<class 'bool'>\n"
     ]
    }
   ],
   "source": [
    "# Python is dynamically typed , means type of a variable is determined at runtime\n",
    "age=25 #int\n",
    "is_student=True #bool\n",
    "\n",
    "print(type(is_student))"
   ]
  },
  {
   "cell_type": "code",
   "execution_count": 7,
   "id": "b31c51b6",
   "metadata": {},
   "outputs": [
    {
     "name": "stdout",
     "output_type": "stream",
     "text": [
      "<class 'int'>\n",
      "25\n",
      "<class 'str'>\n"
     ]
    }
   ],
   "source": [
    "# Type Conversion\n",
    "age=25\n",
    "print(type(age))\n",
    "\n",
    "age_str = str(age)\n",
    "print(age_str)\n",
    "print(type(age_str))"
   ]
  },
  {
   "cell_type": "code",
   "execution_count": 8,
   "id": "ab6402c7",
   "metadata": {},
   "outputs": [
    {
     "name": "stdout",
     "output_type": "stream",
     "text": [
      "<class 'int'>\n"
     ]
    }
   ],
   "source": [
    "age='25'\n",
    "print(type(int(age)))"
   ]
  },
  {
   "cell_type": "code",
   "execution_count": 10,
   "id": "7ba92235",
   "metadata": {},
   "outputs": [
    {
     "ename": "ValueError",
     "evalue": "invalid literal for int() with base 10: 'gaurav'",
     "output_type": "error",
     "traceback": [
      "\u001b[31m---------------------------------------------------------------------------\u001b[39m",
      "\u001b[31mValueError\u001b[39m                                Traceback (most recent call last)",
      "\u001b[36mCell\u001b[39m\u001b[36m \u001b[39m\u001b[32mIn[10]\u001b[39m\u001b[32m, line 2\u001b[39m\n\u001b[32m      1\u001b[39m name=\u001b[33m\"\u001b[39m\u001b[33mgaurav\u001b[39m\u001b[33m\"\u001b[39m\n\u001b[32m----> \u001b[39m\u001b[32m2\u001b[39m \u001b[38;5;28mprint\u001b[39m(\u001b[38;5;28mtype\u001b[39m(\u001b[38;5;28;43mint\u001b[39;49m\u001b[43m(\u001b[49m\u001b[43mname\u001b[49m\u001b[43m)\u001b[49m))\n\u001b[32m      3\u001b[39m \u001b[38;5;66;03m# this is complete string so we cannot do this\u001b[39;00m\n",
      "\u001b[31mValueError\u001b[39m: invalid literal for int() with base 10: 'gaurav'"
     ]
    }
   ],
   "source": [
    "name=\"gaurav\"\n",
    "print(type(int(name)))\n",
    "# this is complete string so we cannot do this"
   ]
  },
  {
   "cell_type": "code",
   "execution_count": 11,
   "id": "11867aff",
   "metadata": {},
   "outputs": [
    {
     "data": {
      "text/plain": [
       "float"
      ]
     },
     "execution_count": 11,
     "metadata": {},
     "output_type": "execute_result"
    }
   ],
   "source": [
    "height=5.11\n",
    "type(height)"
   ]
  },
  {
   "cell_type": "code",
   "execution_count": 12,
   "id": "44759454",
   "metadata": {},
   "outputs": [
    {
     "data": {
      "text/plain": [
       "5.0"
      ]
     },
     "execution_count": 12,
     "metadata": {},
     "output_type": "execute_result"
    }
   ],
   "source": [
    "float(int(height))"
   ]
  },
  {
   "cell_type": "code",
   "execution_count": null,
   "id": "3fcb1922",
   "metadata": {},
   "outputs": [
    {
     "name": "stdout",
     "output_type": "stream",
     "text": [
      "10 <class 'int'>\n",
      "string <class 'str'>\n",
      "10.11 <class 'float'>\n"
     ]
    }
   ],
   "source": [
    "## Dynamic Typing\n",
    "# Python allows the type of a variable to changes as the program executes\n",
    "\n",
    "var=10\n",
    "print(var,type(var))\n",
    "\n",
    "var=\"string\"\n",
    "print(var,type(var))\n",
    "\n",
    "var=3.14\n",
    "print(var,type(var))"
   ]
  },
  {
   "cell_type": "code",
   "execution_count": 14,
   "id": "44020488",
   "metadata": {},
   "outputs": [
    {
     "name": "stdout",
     "output_type": "stream",
     "text": [
      "54 <class 'str'>\n",
      "54 <class 'int'>\n"
     ]
    }
   ],
   "source": [
    "## input\n",
    "age=input(\"what is the age\")\n",
    "print(age,type(age))\n",
    "\n",
    "\n",
    "age=int(input(\"what is the age\"))\n",
    "print(age,type(age))\n"
   ]
  },
  {
   "cell_type": "markdown",
   "id": "37cbc693",
   "metadata": {},
   "source": [
    "## Simple Calculator"
   ]
  },
  {
   "cell_type": "code",
   "execution_count": 16,
   "id": "5701f13f",
   "metadata": {},
   "outputs": [
    {
     "name": "stdout",
     "output_type": "stream",
     "text": [
      "Sum :  7.0\n",
      "Difference :  3.0\n",
      "Multiplication :  10.0\n",
      "Quotient :  2.5\n"
     ]
    }
   ],
   "source": [
    "num1 = float(input(\"Enter first Number : \"))\n",
    "num2 = float(input(\"Enter second Number : \"))\n",
    "\n",
    "sum = num1 + num2\n",
    "difference = num1 - num2\n",
    "multiplication = num1 * num2\n",
    "quotient = num1 / num2\n",
    "\n",
    "print(\"Sum : \",sum);\n",
    "print(\"Difference : \",difference);\n",
    "print(\"Multiplication : \",multiplication);\n",
    "print(\"Quotient : \",quotient);"
   ]
  },
  {
   "cell_type": "code",
   "execution_count": null,
   "id": "beb19f0e",
   "metadata": {},
   "outputs": [],
   "source": []
  }
 ],
 "metadata": {
  "kernelspec": {
   "display_name": "Python 3",
   "language": "python",
   "name": "python3"
  },
  "language_info": {
   "codemirror_mode": {
    "name": "ipython",
    "version": 3
   },
   "file_extension": ".py",
   "mimetype": "text/x-python",
   "name": "python",
   "nbconvert_exporter": "python",
   "pygments_lexer": "ipython3",
   "version": "3.13.5"
  }
 },
 "nbformat": 4,
 "nbformat_minor": 5
}
